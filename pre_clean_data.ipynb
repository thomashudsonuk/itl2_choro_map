{
 "cells": [
  {
   "cell_type": "code",
   "execution_count": null,
   "metadata": {},
   "outputs": [],
   "source": [
    "# import libraries\n",
    "import pandas as pd\n",
    "import folium\n",
    "import json\n",
    "import geopandas as gpd\n",
    "import numpy as np\n",
    "import re"
   ]
  },
  {
   "cell_type": "code",
   "execution_count": 6,
   "metadata": {},
   "outputs": [],
   "source": [
    "# read each sheet from the excel file (and remove rows with at least 2 NaN values)\n",
    "filename = 'DSIT 1023 Request ITL2 level split RnD.xlsx'\n",
    "sheet_1718 = pd.read_excel(filename, sheet_name='2017-18').dropna(axis=0, thresh=2)\n",
    "sheet_1819 = pd.read_excel(filename, sheet_name='2018-19').dropna(axis=0, thresh=2)\n",
    "sheet_1920 = pd.read_excel(filename, sheet_name='2019-20').dropna(axis=0, thresh=2)\n",
    "\n",
    "# cycle through each sheet and clean the data\n",
    "for sheet, year in zip([sheet_1718, sheet_1819, sheet_1920], ['2017-18', '2018-19', '2019-20']):\n",
    "    sheet.columns = sheet.iloc[0] # set the header\n",
    "    sheet.drop(sheet.index[0], inplace=True) # remove the first row\n",
    "    sheet.rename(columns={'Region': 'ITL221NM'}, inplace=True) # rename the 'Region' column\n",
    "    sheet.set_index('ITL221NM', inplace=True) # set the index to 'ITL221NM'\n",
    "    sheet.replace('<5', np.nan, inplace=True) # replace <5 with NaN\n",
    "    sheet.map(str) # convert all values to strings\n",
    "    sheet.replace(regex=True, inplace=True, to_replace=r'\\D', value=r'') # remove all non-numeric characters\n",
    "    sheet.apply(pd.to_numeric) # convert all values to numeric\n",
    "    sheet['Year'] = year # add a column for the year\n",
    "    sheet.reset_index(inplace=True) # reset the index\n",
    "    sheet.columns = sheet.columns.str.replace(' ', '_') # replace spaces with underscores\n",
    "    clean_year = year.replace('-', '_') # replace dashes with underscores\n",
    "    sheet.to_csv(f'cleaned_{clean_year}.csv', index=False) # save sheet to csv\n",
    "del sheet, year, clean_year# delete the temporary variables"
   ]
  },
  {
   "cell_type": "code",
   "execution_count": null,
   "metadata": {},
   "outputs": [],
   "source": [
    "# convert coordinates reference system\n",
    "itl2_gpd = gpd.read_file(\"International_Territorial_Level_2_January_2021_UK_BUC_V2_2022.geojson\") # load geojson file using geodataframe\n",
    "\n",
    "itl2_gpd.to_crs(epsg=4326, inplace=True) # convert crs to epsg:4326 (latitute and longitude) from epsg:27700 (British National Grid).\n",
    "\n",
    "itl2_gpd.to_file(\"itl2_crs_4326.geojson\", driver='GeoJSON') # save to geojson file"
   ]
  }
 ],
 "metadata": {
  "kernelspec": {
   "display_name": "Python 3 (ipykernel)",
   "language": "python",
   "name": "python3"
  },
  "language_info": {
   "codemirror_mode": {
    "name": "ipython",
    "version": 3
   },
   "file_extension": ".py",
   "mimetype": "text/x-python",
   "name": "python",
   "nbconvert_exporter": "python",
   "pygments_lexer": "ipython3",
   "version": "3.9.6"
  }
 },
 "nbformat": 4,
 "nbformat_minor": 2
}
